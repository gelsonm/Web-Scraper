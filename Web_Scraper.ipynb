{
  "nbformat": 4,
  "nbformat_minor": 0,
  "metadata": {
    "colab": {
      "provenance": [],
      "authorship_tag": "ABX9TyOd4oPqcKLRzoXbtxIQ7Ec/",
      "include_colab_link": true
    },
    "kernelspec": {
      "name": "python3",
      "display_name": "Python 3"
    },
    "language_info": {
      "name": "python"
    }
  },
  "cells": [
    {
      "cell_type": "markdown",
      "metadata": {
        "id": "view-in-github",
        "colab_type": "text"
      },
      "source": [
        "<a href=\"https://colab.research.google.com/github/gelsonm/Web-Scraper/blob/main/Web_Scraper.ipynb\" target=\"_parent\"><img src=\"https://colab.research.google.com/assets/colab-badge.svg\" alt=\"Open In Colab\"/></a>"
      ]
    },
    {
      "cell_type": "code",
      "execution_count": 6,
      "metadata": {
        "id": "5YPlmxb9h5-y"
      },
      "outputs": [],
      "source": [
        "import requests\n",
        "from bs4 import BeautifulSoup\n",
        "from IPython import display\n"
      ]
    },
    {
      "cell_type": "code",
      "source": [
        "github_user = input('Input Github Username: ')\n",
        "\n",
        "url = \"https://www.github.com/\" + github_user\n",
        "\n",
        "r = requests.get(url)\n",
        "\n",
        "soup = bs(r.content, 'html.parser')\n",
        "\n",
        "profile_image = soup.find('img',{'alt':'Avatar'})['src']\n",
        "\n",
        "print(profile_image)\n",
        "# display.Image(profile_image)\n"
      ],
      "metadata": {
        "colab": {
          "base_uri": "https://localhost:8080/"
        },
        "id": "X0TircjpiaoN",
        "outputId": "caa580b7-e80f-470c-8e79-fca2b4f111b0"
      },
      "execution_count": 10,
      "outputs": [
        {
          "output_type": "stream",
          "name": "stdout",
          "text": [
            "Input Github Username: gelsonm\n",
            "https://avatars.githubusercontent.com/u/37416550?v=4\n"
          ]
        }
      ]
    },
    {
      "cell_type": "code",
      "source": [],
      "metadata": {
        "id": "FzNA4bZYliST"
      },
      "execution_count": null,
      "outputs": []
    }
  ]
}